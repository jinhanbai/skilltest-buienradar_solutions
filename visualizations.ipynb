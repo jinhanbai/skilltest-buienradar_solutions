{
 "cells": [
  {
   "cell_type": "code",
   "execution_count": null,
   "id": "e5e9436e",
   "metadata": {},
   "outputs": [],
   "source": [
    "import sqlite3\n",
    "import pandas as pd\n",
    "import matplotlib"
   ]
  },
  {
   "cell_type": "code",
   "execution_count": null,
   "id": "1b41ca1e",
   "metadata": {},
   "outputs": [],
   "source": [
    "# Pulls the data from our local database \n"
   ]
  },
  {
   "cell_type": "code",
   "execution_count": null,
   "id": "abb7e3ce",
   "metadata": {},
   "outputs": [],
   "source": [
    "# Plot highest temperature over time"
   ]
  }
 ],
 "metadata": {
  "language_info": {
   "name": "python"
  }
 },
 "nbformat": 4,
 "nbformat_minor": 5
}
